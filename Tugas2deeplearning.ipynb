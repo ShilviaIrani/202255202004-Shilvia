{
  "nbformat": 4,
  "nbformat_minor": 0,
  "metadata": {
    "colab": {
      "provenance": [],
      "gpuType": "T4",
      "mount_file_id": "1oVZRNOF_mb4G2yF7-x36Z4eaoH0NsH4c",
      "authorship_tag": "ABX9TyNo3tGOBzwV7MqZKM+hjzXE",
      "include_colab_link": true
    },
    "kernelspec": {
      "name": "python3",
      "display_name": "Python 3"
    },
    "language_info": {
      "name": "python"
    },
    "accelerator": "GPU"
  },
  "cells": [
    {
      "cell_type": "markdown",
      "metadata": {
        "id": "view-in-github",
        "colab_type": "text"
      },
      "source": [
        "<a href=\"https://colab.research.google.com/github/ShilviaIrani/202255202004-Shilvia/blob/master/Tugas2deeplearning.ipynb\" target=\"_parent\"><img src=\"https://colab.research.google.com/assets/colab-badge.svg\" alt=\"Open In Colab\"/></a>"
      ]
    },
    {
      "cell_type": "code",
      "execution_count": 1,
      "metadata": {
        "id": "1rKyB1cWUXBo"
      },
      "outputs": [],
      "source": [
        "# Import Necessary Libraries\n",
        "import tensorflow as tf\n",
        "from tensorflow.keras.preprocessing.image import ImageDataGenerator\n",
        "from tensorflow.keras.applications import VGG16\n",
        "from tensorflow.keras.models import Sequential\n",
        "from tensorflow.keras.layers import Dense, Flatten, Dropout\n",
        "from sklearn.metrics import confusion_matrix, classification_report\n",
        "import matplotlib.pyplot as plt\n",
        "import seaborn as sns\n",
        "import numpy as np\n",
        "import pandas as pd\n",
        "import os\n",
        "# Import the train_test_split function\n",
        "from sklearn.model_selection import train_test_split"
      ]
    },
    {
      "cell_type": "code",
      "source": [
        "# Load and Transform Data\n",
        "data_dir = '/content/drive/MyDrive/Deep learning '  # Ganti  dengan nama folder Anda\n",
        "batch_size = 32\n",
        "\n",
        "train_datagen = ImageDataGenerator(rescale=1./255,\n",
        "                                    validation_split=0.2)  # 20% untuk validasi\n",
        "\n",
        "train_generator = train_datagen.flow_from_directory(data_dir,\n",
        "                                                    target_size=(224, 224),\n",
        "                                                    batch_size=batch_size,\n",
        "                                                    class_mode='categorical',\n",
        "                                                    subset='training')\n",
        "\n",
        "validation_generator = train_datagen.flow_from_directory(data_dir,\n",
        "                                                         target_size=(224, 224),\n",
        "                                                         batch_size=batch_size,\n",
        "                                                         class_mode='categorical',\n",
        "                                                         subset='validation')\n",
        ""
      ],
      "metadata": {
        "colab": {
          "base_uri": "https://localhost:8080/"
        },
        "id": "IyF3ZTk4VM7R",
        "outputId": "f045a0d3-7b1c-4c4e-974f-6c436d75256f"
      },
      "execution_count": 2,
      "outputs": [
        {
          "output_type": "stream",
          "name": "stdout",
          "text": [
            "Found 960 images belonging to 4 classes.\n",
            "Found 240 images belonging to 4 classes.\n"
          ]
        }
      ]
    },
    {
      "cell_type": "code",
      "source": [
        "# Get class names from the train generator\n",
        "class_names = train_generator.class_indices\n",
        "\n",
        "# Create a list of file paths and their corresponding labels\n",
        "file_paths = []\n",
        "labels = []\n",
        "\n",
        "for class_name in class_names:\n",
        "    class_dir = os.path.join(data_dir, class_name)\n",
        "    for file_name in os.listdir(class_dir):\n",
        "        file_paths.append(os.path.join(class_dir, file_name))\n",
        "        labels.append(class_names[class_name])\n",
        "\n",
        "# Create a DataFrame from the file paths and labels\n",
        "df = pd.DataFrame({'file_path': file_paths, 'label': labels})"
      ],
      "metadata": {
        "id": "0y4HoW1EVmWD"
      },
      "execution_count": 3,
      "outputs": []
    },
    {
      "cell_type": "code",
      "source": [
        "# Splitting the data\n",
        "train_df, test_df = train_test_split(df, train_size=0.6, shuffle=True, random_state=8)\n",
        "train_df, valid_df = train_test_split(train_df, train_size=0.8, shuffle=True, random_state=8)\n",
        "\n",
        "# Check the lengths\n",
        "print('Train length:', len(train_df), 'Validation length:', len(valid_df), 'Test length:', len(test_df))"
      ],
      "metadata": {
        "colab": {
          "base_uri": "https://localhost:8080/"
        },
        "id": "cq10yUEkVzzY",
        "outputId": "359dcbb1-cd4c-4262-fb1d-cc02b53230c0"
      },
      "execution_count": 4,
      "outputs": [
        {
          "output_type": "stream",
          "name": "stdout",
          "text": [
            "Train length: 576 Validation length: 144 Test length: 480\n"
          ]
        }
      ]
    },
    {
      "cell_type": "code",
      "source": [
        "# Data Augmentation\n",
        "height, width, channels = 128, 128, 3\n",
        "batch_size = 64\n",
        "\n",
        "train_datagen = ImageDataGenerator(\n",
        "    rescale=1./255,\n",
        "    rotation_range=20,\n",
        "    width_shift_range=0.2,\n",
        "    height_shift_range=0.2,\n",
        "    shear_range=0.2,\n",
        "    zoom_range=0.2,\n",
        "    horizontal_flip=True,\n",
        "    fill_mode='nearest'\n",
        ")\n",
        "\n",
        "\n",
        "# Convert 'label' column to string type\n",
        "train_df['label'] = train_df['label'].astype(str)\n",
        "valid_df['label'] = valid_df['label'].astype(str)\n",
        "test_df['label'] = test_df['label'].astype(str)\n",
        "\n",
        "\n",
        "# Correct x_col to 'file_path'\n",
        "train_gen = train_datagen.flow_from_dataframe(\n",
        "    train_df, x_col='file_path', y_col='label', target_size=(height, width), # Corrected x_col\n",
        "    class_mode='categorical', color_mode='rgb', shuffle=True, batch_size=batch_size\n",
        ")\n",
        "\n",
        "valid_gen = ImageDataGenerator(rescale=1./255).flow_from_dataframe(\n",
        "    valid_df, x_col='file_path', y_col='label', target_size=(height, width), # Corrected x_col\n",
        "    class_mode='categorical', color_mode='rgb', shuffle=False, batch_size=batch_size\n",
        ")\n",
        "\n",
        "test_gen = ImageDataGenerator(rescale=1./255).flow_from_dataframe(\n",
        "    test_df, x_col='file_path', y_col='label', target_size=(height, width), # Corrected x_col\n",
        "    class_mode='categorical', color_mode='rgb', shuffle=False, batch_size=batch_size\n",
        ")"
      ],
      "metadata": {
        "colab": {
          "base_uri": "https://localhost:8080/"
        },
        "id": "RYGu4uBMWBy9",
        "outputId": "e2233925-19ae-4fbb-dad5-e788b3d778c2"
      },
      "execution_count": 5,
      "outputs": [
        {
          "output_type": "stream",
          "name": "stdout",
          "text": [
            "Found 576 validated image filenames belonging to 4 classes.\n",
            "Found 144 validated image filenames belonging to 4 classes.\n",
            "Found 480 validated image filenames belonging to 4 classes.\n"
          ]
        }
      ]
    },
    {
      "cell_type": "code",
      "source": [
        "# Data Preprocessing and Model Definition\n",
        "base_model = VGG16(weights='imagenet', include_top=False, input_shape=(height, width, channels))\n",
        "base_model.trainable = False  # Freeze the base model\n",
        "\n",
        "model = Sequential([\n",
        "    base_model,\n",
        "    Flatten(),\n",
        "    Dense(256, activation='relu'),\n",
        "    Dropout(0.5),\n",
        "    Dense(len(train_gen.class_indices), activation='softmax')\n",
        "])\n",
        "\n",
        "model.compile(optimizer='adam', loss='categorical_crossentropy', metrics=['accuracy'])"
      ],
      "metadata": {
        "colab": {
          "base_uri": "https://localhost:8080/"
        },
        "id": "Bj8857CEWLl0",
        "outputId": "7065838e-a570-4d8d-d6eb-9555fae794b0"
      },
      "execution_count": 6,
      "outputs": [
        {
          "output_type": "stream",
          "name": "stdout",
          "text": [
            "Downloading data from https://storage.googleapis.com/tensorflow/keras-applications/vgg16/vgg16_weights_tf_dim_ordering_tf_kernels_notop.h5\n",
            "\u001b[1m58889256/58889256\u001b[0m \u001b[32m━━━━━━━━━━━━━━━━━━━━\u001b[0m\u001b[37m\u001b[0m \u001b[1m0s\u001b[0m 0us/step\n"
          ]
        }
      ]
    },
    {
      "cell_type": "code",
      "source": [
        "# Training the Model\n",
        "train_gen = train_datagen.flow_from_dataframe(\n",
        "    train_df, x_col='file_path', y_col='label', target_size=(height, width), # Corrected column names to match DataFrame\n",
        "    class_mode='categorical', color_mode='rgb', shuffle=True, batch_size=batch_size,\n",
        "    errors='ignore'  # Ignore corrupted images\n",
        ")\n",
        "\n",
        "history = model.fit(\n",
        "    train_gen,\n",
        "    steps_per_epoch=len(train_df) // batch_size,\n",
        "    validation_data=valid_gen,\n",
        "    validation_steps=len(valid_df) // batch_size,\n",
        "    epochs=50\n",
        ")\n",
        ""
      ],
      "metadata": {
        "colab": {
          "base_uri": "https://localhost:8080/"
        },
        "id": "KxWFTA6EWQHj",
        "outputId": "b77d1211-4296-449e-8b42-dd16988a597d"
      },
      "execution_count": 7,
      "outputs": [
        {
          "output_type": "stream",
          "name": "stdout",
          "text": [
            "Found 576 validated image filenames belonging to 4 classes.\n"
          ]
        },
        {
          "output_type": "stream",
          "name": "stderr",
          "text": [
            "/usr/local/lib/python3.11/dist-packages/keras/src/trainers/data_adapters/py_dataset_adapter.py:121: UserWarning: Your `PyDataset` class should call `super().__init__(**kwargs)` in its constructor. `**kwargs` can include `workers`, `use_multiprocessing`, `max_queue_size`. Do not pass these arguments to `fit()`, as they will be ignored.\n",
            "  self._warn_if_super_not_called()\n"
          ]
        },
        {
          "output_type": "stream",
          "name": "stdout",
          "text": [
            "Epoch 1/50\n",
            "\u001b[1m9/9\u001b[0m \u001b[32m━━━━━━━━━━━━━━━━━━━━\u001b[0m\u001b[37m\u001b[0m \u001b[1m365s\u001b[0m 40s/step - accuracy: 0.3629 - loss: 2.1478 - val_accuracy: 0.9766 - val_loss: 0.2026\n",
            "Epoch 2/50\n",
            "\u001b[1m9/9\u001b[0m \u001b[32m━━━━━━━━━━━━━━━━━━━━\u001b[0m\u001b[37m\u001b[0m \u001b[1m79s\u001b[0m 9s/step - accuracy: 0.8511 - loss: 0.4124 - val_accuracy: 0.9766 - val_loss: 0.1119\n",
            "Epoch 3/50\n",
            "\u001b[1m9/9\u001b[0m \u001b[32m━━━━━━━━━━━━━━━━━━━━\u001b[0m\u001b[37m\u001b[0m \u001b[1m79s\u001b[0m 9s/step - accuracy: 0.9093 - loss: 0.2460 - val_accuracy: 0.9922 - val_loss: 0.0468\n",
            "Epoch 4/50\n",
            "\u001b[1m9/9\u001b[0m \u001b[32m━━━━━━━━━━━━━━━━━━━━\u001b[0m\u001b[37m\u001b[0m \u001b[1m78s\u001b[0m 9s/step - accuracy: 0.9493 - loss: 0.1336 - val_accuracy: 0.9922 - val_loss: 0.0343\n",
            "Epoch 5/50\n",
            "\u001b[1m9/9\u001b[0m \u001b[32m━━━━━━━━━━━━━━━━━━━━\u001b[0m\u001b[37m\u001b[0m \u001b[1m76s\u001b[0m 9s/step - accuracy: 0.9703 - loss: 0.0991 - val_accuracy: 0.9922 - val_loss: 0.0274\n",
            "Epoch 6/50\n",
            "\u001b[1m9/9\u001b[0m \u001b[32m━━━━━━━━━━━━━━━━━━━━\u001b[0m\u001b[37m\u001b[0m \u001b[1m85s\u001b[0m 9s/step - accuracy: 0.9745 - loss: 0.0925 - val_accuracy: 0.9922 - val_loss: 0.0206\n",
            "Epoch 7/50\n",
            "\u001b[1m9/9\u001b[0m \u001b[32m━━━━━━━━━━━━━━━━━━━━\u001b[0m\u001b[37m\u001b[0m \u001b[1m80s\u001b[0m 8s/step - accuracy: 0.9788 - loss: 0.0765 - val_accuracy: 0.9922 - val_loss: 0.0272\n",
            "Epoch 8/50\n",
            "\u001b[1m9/9\u001b[0m \u001b[32m━━━━━━━━━━━━━━━━━━━━\u001b[0m\u001b[37m\u001b[0m \u001b[1m82s\u001b[0m 9s/step - accuracy: 0.9790 - loss: 0.0697 - val_accuracy: 0.9922 - val_loss: 0.0218\n",
            "Epoch 9/50\n",
            "\u001b[1m9/9\u001b[0m \u001b[32m━━━━━━━━━━━━━━━━━━━━\u001b[0m\u001b[37m\u001b[0m \u001b[1m78s\u001b[0m 9s/step - accuracy: 0.9811 - loss: 0.0583 - val_accuracy: 1.0000 - val_loss: 0.0162\n",
            "Epoch 10/50\n",
            "\u001b[1m9/9\u001b[0m \u001b[32m━━━━━━━━━━━━━━━━━━━━\u001b[0m\u001b[37m\u001b[0m \u001b[1m78s\u001b[0m 9s/step - accuracy: 0.9939 - loss: 0.0450 - val_accuracy: 0.9922 - val_loss: 0.0116\n",
            "Epoch 11/50\n",
            "\u001b[1m9/9\u001b[0m \u001b[32m━━━━━━━━━━━━━━━━━━━━\u001b[0m\u001b[37m\u001b[0m \u001b[1m82s\u001b[0m 9s/step - accuracy: 0.9814 - loss: 0.0562 - val_accuracy: 1.0000 - val_loss: 0.0121\n",
            "Epoch 12/50\n",
            "\u001b[1m9/9\u001b[0m \u001b[32m━━━━━━━━━━━━━━━━━━━━\u001b[0m\u001b[37m\u001b[0m \u001b[1m81s\u001b[0m 9s/step - accuracy: 0.9832 - loss: 0.0471 - val_accuracy: 1.0000 - val_loss: 0.0106\n",
            "Epoch 13/50\n",
            "\u001b[1m9/9\u001b[0m \u001b[32m━━━━━━━━━━━━━━━━━━━━\u001b[0m\u001b[37m\u001b[0m \u001b[1m76s\u001b[0m 8s/step - accuracy: 0.9907 - loss: 0.0341 - val_accuracy: 1.0000 - val_loss: 0.0050\n",
            "Epoch 14/50\n",
            "\u001b[1m9/9\u001b[0m \u001b[32m━━━━━━━━━━━━━━━━━━━━\u001b[0m\u001b[37m\u001b[0m \u001b[1m77s\u001b[0m 9s/step - accuracy: 0.9882 - loss: 0.0377 - val_accuracy: 1.0000 - val_loss: 0.0036\n",
            "Epoch 15/50\n",
            "\u001b[1m9/9\u001b[0m \u001b[32m━━━━━━━━━━━━━━━━━━━━\u001b[0m\u001b[37m\u001b[0m \u001b[1m75s\u001b[0m 8s/step - accuracy: 0.9904 - loss: 0.0398 - val_accuracy: 1.0000 - val_loss: 0.0046\n",
            "Epoch 16/50\n",
            "\u001b[1m9/9\u001b[0m \u001b[32m━━━━━━━━━━━━━━━━━━━━\u001b[0m\u001b[37m\u001b[0m \u001b[1m77s\u001b[0m 9s/step - accuracy: 0.9916 - loss: 0.0422 - val_accuracy: 1.0000 - val_loss: 0.0060\n",
            "Epoch 17/50\n",
            "\u001b[1m9/9\u001b[0m \u001b[32m━━━━━━━━━━━━━━━━━━━━\u001b[0m\u001b[37m\u001b[0m \u001b[1m78s\u001b[0m 8s/step - accuracy: 0.9954 - loss: 0.0259 - val_accuracy: 1.0000 - val_loss: 0.0028\n",
            "Epoch 18/50\n",
            "\u001b[1m9/9\u001b[0m \u001b[32m━━━━━━━━━━━━━━━━━━━━\u001b[0m\u001b[37m\u001b[0m \u001b[1m81s\u001b[0m 9s/step - accuracy: 0.9932 - loss: 0.0266 - val_accuracy: 1.0000 - val_loss: 0.0023\n",
            "Epoch 19/50\n",
            "\u001b[1m9/9\u001b[0m \u001b[32m━━━━━━━━━━━━━━━━━━━━\u001b[0m\u001b[37m\u001b[0m \u001b[1m79s\u001b[0m 9s/step - accuracy: 0.9974 - loss: 0.0167 - val_accuracy: 1.0000 - val_loss: 0.0021\n",
            "Epoch 20/50\n",
            "\u001b[1m9/9\u001b[0m \u001b[32m━━━━━━━━━━━━━━━━━━━━\u001b[0m\u001b[37m\u001b[0m \u001b[1m82s\u001b[0m 9s/step - accuracy: 0.9945 - loss: 0.0252 - val_accuracy: 1.0000 - val_loss: 0.0023\n",
            "Epoch 21/50\n",
            "\u001b[1m9/9\u001b[0m \u001b[32m━━━━━━━━━━━━━━━━━━━━\u001b[0m\u001b[37m\u001b[0m \u001b[1m78s\u001b[0m 9s/step - accuracy: 0.9965 - loss: 0.0244 - val_accuracy: 1.0000 - val_loss: 0.0022\n",
            "Epoch 22/50\n",
            "\u001b[1m9/9\u001b[0m \u001b[32m━━━━━━━━━━━━━━━━━━━━\u001b[0m\u001b[37m\u001b[0m \u001b[1m80s\u001b[0m 9s/step - accuracy: 0.9963 - loss: 0.0188 - val_accuracy: 1.0000 - val_loss: 0.0015\n",
            "Epoch 23/50\n",
            "\u001b[1m9/9\u001b[0m \u001b[32m━━━━━━━━━━━━━━━━━━━━\u001b[0m\u001b[37m\u001b[0m \u001b[1m78s\u001b[0m 9s/step - accuracy: 0.9894 - loss: 0.0275 - val_accuracy: 1.0000 - val_loss: 0.0014\n",
            "Epoch 24/50\n",
            "\u001b[1m9/9\u001b[0m \u001b[32m━━━━━━━━━━━━━━━━━━━━\u001b[0m\u001b[37m\u001b[0m \u001b[1m83s\u001b[0m 9s/step - accuracy: 0.9890 - loss: 0.0242 - val_accuracy: 1.0000 - val_loss: 0.0067\n",
            "Epoch 25/50\n",
            "\u001b[1m9/9\u001b[0m \u001b[32m━━━━━━━━━━━━━━━━━━━━\u001b[0m\u001b[37m\u001b[0m \u001b[1m78s\u001b[0m 9s/step - accuracy: 0.9916 - loss: 0.0292 - val_accuracy: 1.0000 - val_loss: 0.0021\n",
            "Epoch 26/50\n",
            "\u001b[1m9/9\u001b[0m \u001b[32m━━━━━━━━━━━━━━━━━━━━\u001b[0m\u001b[37m\u001b[0m \u001b[1m83s\u001b[0m 9s/step - accuracy: 0.9954 - loss: 0.0215 - val_accuracy: 1.0000 - val_loss: 0.0015\n",
            "Epoch 27/50\n",
            "\u001b[1m9/9\u001b[0m \u001b[32m━━━━━━━━━━━━━━━━━━━━\u001b[0m\u001b[37m\u001b[0m \u001b[1m78s\u001b[0m 9s/step - accuracy: 0.9992 - loss: 0.0154 - val_accuracy: 1.0000 - val_loss: 9.2303e-04\n",
            "Epoch 28/50\n",
            "\u001b[1m9/9\u001b[0m \u001b[32m━━━━━━━━━━━━━━━━━━━━\u001b[0m\u001b[37m\u001b[0m \u001b[1m79s\u001b[0m 9s/step - accuracy: 1.0000 - loss: 0.0134 - val_accuracy: 1.0000 - val_loss: 9.4507e-04\n",
            "Epoch 29/50\n",
            "\u001b[1m9/9\u001b[0m \u001b[32m━━━━━━━━━━━━━━━━━━━━\u001b[0m\u001b[37m\u001b[0m \u001b[1m80s\u001b[0m 9s/step - accuracy: 0.9977 - loss: 0.0109 - val_accuracy: 1.0000 - val_loss: 6.7134e-04\n",
            "Epoch 30/50\n",
            "\u001b[1m9/9\u001b[0m \u001b[32m━━━━━━━━━━━━━━━━━━━━\u001b[0m\u001b[37m\u001b[0m \u001b[1m78s\u001b[0m 9s/step - accuracy: 0.9954 - loss: 0.0159 - val_accuracy: 1.0000 - val_loss: 4.6918e-04\n",
            "Epoch 31/50\n",
            "\u001b[1m9/9\u001b[0m \u001b[32m━━━━━━━━━━━━━━━━━━━━\u001b[0m\u001b[37m\u001b[0m \u001b[1m78s\u001b[0m 9s/step - accuracy: 1.0000 - loss: 0.0082 - val_accuracy: 1.0000 - val_loss: 3.3158e-04\n",
            "Epoch 32/50\n",
            "\u001b[1m9/9\u001b[0m \u001b[32m━━━━━━━━━━━━━━━━━━━━\u001b[0m\u001b[37m\u001b[0m \u001b[1m81s\u001b[0m 9s/step - accuracy: 0.9933 - loss: 0.0236 - val_accuracy: 1.0000 - val_loss: 3.9191e-04\n",
            "Epoch 33/50\n",
            "\u001b[1m9/9\u001b[0m \u001b[32m━━━━━━━━━━━━━━━━━━━━\u001b[0m\u001b[37m\u001b[0m \u001b[1m76s\u001b[0m 8s/step - accuracy: 0.9959 - loss: 0.0183 - val_accuracy: 1.0000 - val_loss: 7.7046e-04\n",
            "Epoch 34/50\n",
            "\u001b[1m9/9\u001b[0m \u001b[32m━━━━━━━━━━━━━━━━━━━━\u001b[0m\u001b[37m\u001b[0m \u001b[1m78s\u001b[0m 9s/step - accuracy: 0.9966 - loss: 0.0130 - val_accuracy: 1.0000 - val_loss: 6.8232e-04\n",
            "Epoch 35/50\n",
            "\u001b[1m9/9\u001b[0m \u001b[32m━━━━━━━━━━━━━━━━━━━━\u001b[0m\u001b[37m\u001b[0m \u001b[1m78s\u001b[0m 9s/step - accuracy: 1.0000 - loss: 0.0103 - val_accuracy: 1.0000 - val_loss: 4.9888e-04\n",
            "Epoch 36/50\n",
            "\u001b[1m9/9\u001b[0m \u001b[32m━━━━━━━━━━━━━━━━━━━━\u001b[0m\u001b[37m\u001b[0m \u001b[1m79s\u001b[0m 9s/step - accuracy: 1.0000 - loss: 0.0071 - val_accuracy: 1.0000 - val_loss: 4.4328e-04\n",
            "Epoch 37/50\n",
            "\u001b[1m9/9\u001b[0m \u001b[32m━━━━━━━━━━━━━━━━━━━━\u001b[0m\u001b[37m\u001b[0m \u001b[1m81s\u001b[0m 9s/step - accuracy: 0.9946 - loss: 0.0111 - val_accuracy: 1.0000 - val_loss: 3.8044e-04\n",
            "Epoch 38/50\n",
            "\u001b[1m9/9\u001b[0m \u001b[32m━━━━━━━━━━━━━━━━━━━━\u001b[0m\u001b[37m\u001b[0m \u001b[1m79s\u001b[0m 9s/step - accuracy: 0.9983 - loss: 0.0066 - val_accuracy: 1.0000 - val_loss: 4.8244e-04\n",
            "Epoch 39/50\n",
            "\u001b[1m9/9\u001b[0m \u001b[32m━━━━━━━━━━━━━━━━━━━━\u001b[0m\u001b[37m\u001b[0m \u001b[1m82s\u001b[0m 9s/step - accuracy: 0.9983 - loss: 0.0083 - val_accuracy: 1.0000 - val_loss: 5.0006e-04\n",
            "Epoch 40/50\n",
            "\u001b[1m9/9\u001b[0m \u001b[32m━━━━━━━━━━━━━━━━━━━━\u001b[0m\u001b[37m\u001b[0m \u001b[1m84s\u001b[0m 9s/step - accuracy: 0.9893 - loss: 0.0202 - val_accuracy: 1.0000 - val_loss: 4.9281e-04\n",
            "Epoch 41/50\n",
            "\u001b[1m9/9\u001b[0m \u001b[32m━━━━━━━━━━━━━━━━━━━━\u001b[0m\u001b[37m\u001b[0m \u001b[1m134s\u001b[0m 9s/step - accuracy: 0.9964 - loss: 0.0148 - val_accuracy: 1.0000 - val_loss: 4.9672e-04\n",
            "Epoch 42/50\n",
            "\u001b[1m9/9\u001b[0m \u001b[32m━━━━━━━━━━━━━━━━━━━━\u001b[0m\u001b[37m\u001b[0m \u001b[1m82s\u001b[0m 9s/step - accuracy: 0.9993 - loss: 0.0074 - val_accuracy: 1.0000 - val_loss: 6.1284e-04\n",
            "Epoch 43/50\n",
            "\u001b[1m9/9\u001b[0m \u001b[32m━━━━━━━━━━━━━━━━━━━━\u001b[0m\u001b[37m\u001b[0m \u001b[1m136s\u001b[0m 9s/step - accuracy: 1.0000 - loss: 0.0056 - val_accuracy: 1.0000 - val_loss: 5.2993e-04\n",
            "Epoch 44/50\n",
            "\u001b[1m9/9\u001b[0m \u001b[32m━━━━━━━━━━━━━━━━━━━━\u001b[0m\u001b[37m\u001b[0m \u001b[1m83s\u001b[0m 9s/step - accuracy: 0.9995 - loss: 0.0066 - val_accuracy: 1.0000 - val_loss: 3.1662e-04\n",
            "Epoch 45/50\n",
            "\u001b[1m9/9\u001b[0m \u001b[32m━━━━━━━━━━━━━━━━━━━━\u001b[0m\u001b[37m\u001b[0m \u001b[1m81s\u001b[0m 9s/step - accuracy: 1.0000 - loss: 0.0073 - val_accuracy: 1.0000 - val_loss: 5.6287e-04\n",
            "Epoch 46/50\n",
            "\u001b[1m9/9\u001b[0m \u001b[32m━━━━━━━━━━━━━━━━━━━━\u001b[0m\u001b[37m\u001b[0m \u001b[1m81s\u001b[0m 9s/step - accuracy: 1.0000 - loss: 0.0055 - val_accuracy: 1.0000 - val_loss: 2.3195e-04\n",
            "Epoch 47/50\n",
            "\u001b[1m9/9\u001b[0m \u001b[32m━━━━━━━━━━━━━━━━━━━━\u001b[0m\u001b[37m\u001b[0m \u001b[1m76s\u001b[0m 8s/step - accuracy: 0.9987 - loss: 0.0061 - val_accuracy: 1.0000 - val_loss: 2.4560e-04\n",
            "Epoch 48/50\n",
            "\u001b[1m9/9\u001b[0m \u001b[32m━━━━━━━━━━━━━━━━━━━━\u001b[0m\u001b[37m\u001b[0m \u001b[1m79s\u001b[0m 9s/step - accuracy: 0.9935 - loss: 0.0110 - val_accuracy: 1.0000 - val_loss: 1.8899e-04\n",
            "Epoch 49/50\n",
            "\u001b[1m9/9\u001b[0m \u001b[32m━━━━━━━━━━━━━━━━━━━━\u001b[0m\u001b[37m\u001b[0m \u001b[1m81s\u001b[0m 9s/step - accuracy: 0.9973 - loss: 0.0077 - val_accuracy: 1.0000 - val_loss: 4.6397e-04\n",
            "Epoch 50/50\n",
            "\u001b[1m9/9\u001b[0m \u001b[32m━━━━━━━━━━━━━━━━━━━━\u001b[0m\u001b[37m\u001b[0m \u001b[1m79s\u001b[0m 9s/step - accuracy: 0.9992 - loss: 0.0091 - val_accuracy: 1.0000 - val_loss: 4.1921e-04\n"
          ]
        }
      ]
    },
    {
      "cell_type": "code",
      "source": [
        "# Model Evaluation\n",
        "# Evaluate the model on the test dataset\n",
        "test_loss, test_accuracy = model.evaluate(test_gen, steps=len(test_df) // batch_size)\n",
        "print(f'Test Loss: {test_loss:.4f}, Test Accuracy: {test_accuracy:.4f}')"
      ],
      "metadata": {
        "colab": {
          "base_uri": "https://localhost:8080/"
        },
        "id": "z9SKLPh_naND",
        "outputId": "df45a0b0-fb83-4296-9e65-4d183d97ebb8"
      },
      "execution_count": 8,
      "outputs": [
        {
          "output_type": "stream",
          "name": "stdout",
          "text": [
            "\u001b[1m7/7\u001b[0m \u001b[32m━━━━━━━━━━━━━━━━━━━━\u001b[0m\u001b[37m\u001b[0m \u001b[1m220s\u001b[0m 36s/step - accuracy: 1.0000 - loss: 9.3754e-04\n",
            "Test Loss: 0.0009, Test Accuracy: 1.0000\n"
          ]
        }
      ]
    },
    {
      "cell_type": "code",
      "source": [
        "# Get true classes and predicted classes for confusion matrix\n",
        "true_classes = test_gen.classes  # Get true labels from the generator\n",
        "predicted_probs = model.predict(test_gen, steps=len(test_df) // batch_size) # Get predicted probabilities\n",
        "predicted_classes = np.argmax(predicted_probs, axis=1) # Get predicted labels from probabilities"
      ],
      "metadata": {
        "colab": {
          "base_uri": "https://localhost:8080/"
        },
        "id": "1hi2bpXhp0Qe",
        "outputId": "24c75b56-ebb7-4fbc-e2b0-eff950a2e88f"
      },
      "execution_count": 11,
      "outputs": [
        {
          "output_type": "stream",
          "name": "stdout",
          "text": [
            "\u001b[1m7/7\u001b[0m \u001b[32m━━━━━━━━━━━━━━━━━━━━\u001b[0m\u001b[37m\u001b[0m \u001b[1m52s\u001b[0m 7s/step\n"
          ]
        }
      ]
    },
    {
      "cell_type": "code",
      "source": [
        "# Predict on the entire test set by removing the 'steps' argument\n",
        "predicted_probs = model.predict(test_gen)\n",
        "predicted_classes = np.argmax(predicted_probs, axis=1)"
      ],
      "metadata": {
        "colab": {
          "base_uri": "https://localhost:8080/"
        },
        "id": "4dr8mFdlrX1w",
        "outputId": "915bacd0-c308-4fbb-8802-ec762f9d7650"
      },
      "execution_count": 15,
      "outputs": [
        {
          "output_type": "stream",
          "name": "stdout",
          "text": [
            "\u001b[1m8/8\u001b[0m \u001b[32m━━━━━━━━━━━━━━━━━━━━\u001b[0m\u001b[37m\u001b[0m \u001b[1m62s\u001b[0m 8s/step\n"
          ]
        }
      ]
    },
    {
      "cell_type": "code",
      "source": [
        "conf_matrix = confusion_matrix(true_classes, predicted_classes)\n",
        "\n",
        "plt.figure(figsize=(10, 7))\n",
        "sns.heatmap(conf_matrix, annot=True, fmt='d', cmap='Blues', xticklabels=list(test_gen.class_indices.keys()), yticklabels=list(test_gen.class_indices.keys()))\n",
        "plt.ylabel('Aktual')\n",
        "plt.xlabel('Prediksi')\n",
        "plt.title('Confusion Matrix')\n",
        "plt.show()"
      ],
      "metadata": {
        "colab": {
          "base_uri": "https://localhost:8080/",
          "height": 641
        },
        "id": "sj3zJ2ilqqWc",
        "outputId": "19635340-e852-477c-acef-5345deaf40d7"
      },
      "execution_count": 16,
      "outputs": [
        {
          "output_type": "display_data",
          "data": {
            "text/plain": [
              "<Figure size 1000x700 with 2 Axes>"
            ],
            "image/png": "[encoded data removed]"
          },
          "metadata": {}
        }
      ]
    },
    {
      "cell_type": "code",
      "source": [
        "# Classification Report\n",
        "report = classification_report(true_classes, predicted_classes, target_names=list(test_gen.class_indices.keys()))\n",
        "print(report)"
      ],
      "metadata": {
        "colab": {
          "base_uri": "https://localhost:8080/"
        },
        "id": "uyDqOnQnr20t",
        "outputId": "8fc8b721-b6f6-4241-f819-6b3a36a7243f"
      },
      "execution_count": 17,
      "outputs": [
        {
          "output_type": "stream",
          "name": "stdout",
          "text": [
            "              precision    recall  f1-score   support\n",
            "\n",
            "           0       1.00      1.00      1.00       131\n",
            "           1       1.00      1.00      1.00       123\n",
            "           2       1.00      1.00      1.00       116\n",
            "           3       1.00      1.00      1.00       110\n",
            "\n",
            "    accuracy                           1.00       480\n",
            "   macro avg       1.00      1.00      1.00       480\n",
            "weighted avg       1.00      1.00      1.00       480\n",
            "\n"
          ]
        }
      ]
    },
    {
      "cell_type": "code",
      "source": [
        "# Grad-CAM Visualization\n",
        "import cv2\n",
        "\n",
        "def get_gradcam(model, img, layer_name):\n",
        "    \"\"\"\n",
        "    Generates a Grad-CAM heatmap for a given image and model.\n",
        "\n",
        "    Args:\n",
        "        model: The trained model.\n",
        "        img: The input image.\n",
        "        layer_name: The name of the convolutional layer to visualize.\n",
        "\n",
        "    Returns:\n",
        "        Heatmap overlayed on the image.\n",
        "    \"\"\"\n",
        "    # Preprocess the image\n",
        "    img = np.expand_dims(img, axis=0)  # Add batch dimension\n",
        "    img = img / 255.0  # Rescale\n",
        "    preds = model.predict(img)  # Make prediction to define model output\n",
        "    class_idx = np.argmax(preds[0])\n",
        "\n",
        "    # Get the gradient of the top predicted class\n",
        "    # Get the layer to visualize from the VGG16 model (base model)\n",
        "    vgg16_model = model.get_layer('vgg16')\n",
        "    grad_model = tf.keras.models.Model(\n",
        "        inputs=model.inputs,  # Use the inputs of the main model\n",
        "        # Instead of model.output, use vgg16_model.output\n",
        "        # Correctly access the layer output and the model's final output\n",
        "        outputs=[vgg16_model.get_layer(layer_name).output, model.output]\n",
        "    )\n",
        "\n",
        "    with tf.GradientTape() as tape:\n",
        "        conv_outputs, predictions = grad_model(img)  # Pass the image to the grad_model\n",
        "        loss = predictions[:, class_idx]\n",
        "\n",
        "    # Compute gradients\n",
        "    grads = tape.gradient(loss, conv_outputs)[0]\n",
        "    pooled_grads = tf.reduce_mean(grads, axis=(0, 1))\n",
        "\n",
        "    # Get the output of the last convolutional layer\n",
        "    conv_outputs = conv_outputs[0]\n",
        "    heatmap = conv_outputs @ pooled_grads[..., tf.newaxis]\n",
        "    heatmap = tf.squeeze(heatmap)\n",
        "\n",
        "    # Normalize the heatmap\n",
        "    heatmap = tf.maximum(heatmap, 0) / tf.reduce_max(heatmap)\n",
        "\n",
        "    return heatmap.numpy()"
      ],
      "metadata": {
        "id": "DwcK98vHr8gu"
      },
      "execution_count": 18,
      "outputs": []
    }
  ]
}